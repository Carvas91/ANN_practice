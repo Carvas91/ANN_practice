{
 "cells": [
  {
   "cell_type": "code",
   "execution_count": 2,
   "metadata": {},
   "outputs": [
    {
     "data": {
      "text/plain": [
       "'2.18.0'"
      ]
     },
     "execution_count": 2,
     "metadata": {},
     "output_type": "execute_result"
    }
   ],
   "source": [
    "import tensorflow as tf\n",
    "tf.__version__"
   ]
  },
  {
   "cell_type": "code",
   "execution_count": 4,
   "metadata": {},
   "outputs": [
    {
     "data": {
      "text/plain": [
       "'3.6.0'"
      ]
     },
     "execution_count": 4,
     "metadata": {},
     "output_type": "execute_result"
    }
   ],
   "source": [
    "from tensorflow import keras\n",
    "keras.__version__"
   ]
  },
  {
   "cell_type": "code",
   "execution_count": 9,
   "metadata": {},
   "outputs": [],
   "source": [
    "from keras import datasets"
   ]
  },
  {
   "cell_type": "code",
   "execution_count": 10,
   "metadata": {},
   "outputs": [],
   "source": [
    "mnist = datasets.mnist"
   ]
  },
  {
   "cell_type": "code",
   "execution_count": 12,
   "metadata": {},
   "outputs": [
    {
     "name": "stdout",
     "output_type": "stream",
     "text": [
      "Downloading data from https://storage.googleapis.com/tensorflow/tf-keras-datasets/mnist.npz\n",
      "\u001b[1m11490434/11490434\u001b[0m \u001b[32m━━━━━━━━━━━━━━━━━━━━\u001b[0m\u001b[37m\u001b[0m \u001b[1m1s\u001b[0m 0us/step\n"
     ]
    }
   ],
   "source": [
    "(X_train, y_train), (X_test, y_test) = mnist.load_data()"
   ]
  },
  {
   "cell_type": "code",
   "execution_count": 14,
   "metadata": {},
   "outputs": [
    {
     "data": {
      "text/plain": [
       "(60000, 28, 28)"
      ]
     },
     "execution_count": 14,
     "metadata": {},
     "output_type": "execute_result"
    }
   ],
   "source": [
    "X_train.shape"
   ]
  },
  {
   "cell_type": "code",
   "execution_count": 15,
   "metadata": {},
   "outputs": [
    {
     "data": {
      "text/plain": [
       "(10000, 28, 28)"
      ]
     },
     "execution_count": 15,
     "metadata": {},
     "output_type": "execute_result"
    }
   ],
   "source": [
    "X_test.shape"
   ]
  },
  {
   "cell_type": "code",
   "execution_count": 16,
   "metadata": {},
   "outputs": [],
   "source": [
    "import numpy as np\n",
    "import matplotlib.pyplot as plt"
   ]
  },
  {
   "cell_type": "code",
   "execution_count": 25,
   "metadata": {},
   "outputs": [
    {
     "data": {
      "image/png": "[encoded data removed]",
      "text/plain": [
       "<Figure size 1200x400 with 8 Axes>"
      ]
     },
     "metadata": {},
     "output_type": "display_data"
    }
   ],
   "source": [
    "plt.figure(figsize=(12, 4)) \n",
    "for index, digit in zip(range(1, 9), X_train[:8]):\n",
    "    plt.subplot(2, 4, index)\n",
    "    plt.imshow(np.reshape(digit, newshape=(28, 28)), cmap=plt.cm.gray)\n",
    "    plt.title(f\"Example: {index}\", fontsize=10) \n",
    "    plt.axis('off')  \n",
    "\n",
    "plt.tight_layout()  \n",
    "plt.show()\n"
   ]
  },
  {
   "cell_type": "code",
   "execution_count": 26,
   "metadata": {},
   "outputs": [],
   "source": [
    "from sklearn.model_selection import train_test_split\n",
    "\n",
    "X_test, X_val, y_test, y_val = train_test_split(X_test, y_test, test_size=0.5)"
   ]
  },
  {
   "cell_type": "code",
   "execution_count": 28,
   "metadata": {},
   "outputs": [
    {
     "data": {
      "text/plain": [
       "((5000, 28, 28), (5000,))"
      ]
     },
     "execution_count": 28,
     "metadata": {},
     "output_type": "execute_result"
    }
   ],
   "source": [
    "X_test.shape,  y_test.shape"
   ]
  },
  {
   "cell_type": "code",
   "execution_count": 29,
   "metadata": {},
   "outputs": [],
   "source": [
    "from keras import models\n",
    "from keras import layers"
   ]
  },
  {
   "cell_type": "code",
   "execution_count": 30,
   "metadata": {},
   "outputs": [
    {
     "name": "stderr",
     "output_type": "stream",
     "text": [
      "c:\\Users\\carva\\anaconda3\\Lib\\site-packages\\keras\\src\\layers\\core\\dense.py:87: UserWarning: Do not pass an `input_shape`/`input_dim` argument to a layer. When using Sequential models, prefer using an `Input(shape)` object as the first layer in the model instead.\n",
      "  super().__init__(activity_regularizer=activity_regularizer, **kwargs)\n"
     ]
    }
   ],
   "source": [
    "network = models.Sequential()\n",
    "\n",
    "network.add(layers.Dense(300, activation='relu', input_shape=(28*28,)))\n",
    "network.add(layers.Dense(100, activation='relu'))\n",
    "network.add(layers.Dense(10,activation='softmax'))"
   ]
  },
  {
   "cell_type": "code",
   "execution_count": 31,
   "metadata": {},
   "outputs": [
    {
     "data": {
      "text/html": [
       "<pre style=\"white-space:pre;overflow-x:auto;line-height:normal;font-family:Menlo,'DejaVu Sans Mono',consolas,'Courier New',monospace\"><span style=\"font-weight: bold\">Model: \"sequential\"</span>\n",
       "</pre>\n"
      ],
      "text/plain": [
       "\u001b[1mModel: \"sequential\"\u001b[0m\n"
      ]
     },
     "metadata": {},
     "output_type": "display_data"
    },
    {
     "data": {
      "text/html": [
       "<pre style=\"white-space:pre;overflow-x:auto;line-height:normal;font-family:Menlo,'DejaVu Sans Mono',consolas,'Courier New',monospace\">┏━━━━━━━━━━━━━━━━━━━━━━━━━━━━━━━━━┳━━━━━━━━━━━━━━━━━━━━━━━━┳━━━━━━━━━━━━━━━┓\n",
       "┃<span style=\"font-weight: bold\"> Layer (type)                    </span>┃<span style=\"font-weight: bold\"> Output Shape           </span>┃<span style=\"font-weight: bold\">       Param # </span>┃\n",
       "┡━━━━━━━━━━━━━━━━━━━━━━━━━━━━━━━━━╇━━━━━━━━━━━━━━━━━━━━━━━━╇━━━━━━━━━━━━━━━┩\n",
       "│ dense (<span style=\"color: #0087ff; text-decoration-color: #0087ff\">Dense</span>)                   │ (<span style=\"color: #00d7ff; text-decoration-color: #00d7ff\">None</span>, <span style=\"color: #00af00; text-decoration-color: #00af00\">300</span>)            │       <span style=\"color: #00af00; text-decoration-color: #00af00\">235,500</span> │\n",
       "├─────────────────────────────────┼────────────────────────┼───────────────┤\n",
       "│ dense_1 (<span style=\"color: #0087ff; text-decoration-color: #0087ff\">Dense</span>)                 │ (<span style=\"color: #00d7ff; text-decoration-color: #00d7ff\">None</span>, <span style=\"color: #00af00; text-decoration-color: #00af00\">100</span>)            │        <span style=\"color: #00af00; text-decoration-color: #00af00\">30,100</span> │\n",
       "├─────────────────────────────────┼────────────────────────┼───────────────┤\n",
       "│ dense_2 (<span style=\"color: #0087ff; text-decoration-color: #0087ff\">Dense</span>)                 │ (<span style=\"color: #00d7ff; text-decoration-color: #00d7ff\">None</span>, <span style=\"color: #00af00; text-decoration-color: #00af00\">10</span>)             │         <span style=\"color: #00af00; text-decoration-color: #00af00\">1,010</span> │\n",
       "└─────────────────────────────────┴────────────────────────┴───────────────┘\n",
       "</pre>\n"
      ],
      "text/plain": [
       "┏━━━━━━━━━━━━━━━━━━━━━━━━━━━━━━━━━┳━━━━━━━━━━━━━━━━━━━━━━━━┳━━━━━━━━━━━━━━━┓\n",
       "┃\u001b[1m \u001b[0m\u001b[1mLayer (type)                   \u001b[0m\u001b[1m \u001b[0m┃\u001b[1m \u001b[0m\u001b[1mOutput Shape          \u001b[0m\u001b[1m \u001b[0m┃\u001b[1m \u001b[0m\u001b[1m      Param #\u001b[0m\u001b[1m \u001b[0m┃\n",
       "┡━━━━━━━━━━━━━━━━━━━━━━━━━━━━━━━━━╇━━━━━━━━━━━━━━━━━━━━━━━━╇━━━━━━━━━━━━━━━┩\n",
       "│ dense (\u001b[38;5;33mDense\u001b[0m)                   │ (\u001b[38;5;45mNone\u001b[0m, \u001b[38;5;34m300\u001b[0m)            │       \u001b[38;5;34m235,500\u001b[0m │\n",
       "├─────────────────────────────────┼────────────────────────┼───────────────┤\n",
       "│ dense_1 (\u001b[38;5;33mDense\u001b[0m)                 │ (\u001b[38;5;45mNone\u001b[0m, \u001b[38;5;34m100\u001b[0m)            │        \u001b[38;5;34m30,100\u001b[0m │\n",
       "├─────────────────────────────────┼────────────────────────┼───────────────┤\n",
       "│ dense_2 (\u001b[38;5;33mDense\u001b[0m)                 │ (\u001b[38;5;45mNone\u001b[0m, \u001b[38;5;34m10\u001b[0m)             │         \u001b[38;5;34m1,010\u001b[0m │\n",
       "└─────────────────────────────────┴────────────────────────┴───────────────┘\n"
      ]
     },
     "metadata": {},
     "output_type": "display_data"
    },
    {
     "data": {
      "text/html": [
       "<pre style=\"white-space:pre;overflow-x:auto;line-height:normal;font-family:Menlo,'DejaVu Sans Mono',consolas,'Courier New',monospace\"><span style=\"font-weight: bold\"> Total params: </span><span style=\"color: #00af00; text-decoration-color: #00af00\">266,610</span> (1.02 MB)\n",
       "</pre>\n"
      ],
      "text/plain": [
       "\u001b[1m Total params: \u001b[0m\u001b[38;5;34m266,610\u001b[0m (1.02 MB)\n"
      ]
     },
     "metadata": {},
     "output_type": "display_data"
    },
    {
     "data": {
      "text/html": [
       "<pre style=\"white-space:pre;overflow-x:auto;line-height:normal;font-family:Menlo,'DejaVu Sans Mono',consolas,'Courier New',monospace\"><span style=\"font-weight: bold\"> Trainable params: </span><span style=\"color: #00af00; text-decoration-color: #00af00\">266,610</span> (1.02 MB)\n",
       "</pre>\n"
      ],
      "text/plain": [
       "\u001b[1m Trainable params: \u001b[0m\u001b[38;5;34m266,610\u001b[0m (1.02 MB)\n"
      ]
     },
     "metadata": {},
     "output_type": "display_data"
    },
    {
     "data": {
      "text/html": [
       "<pre style=\"white-space:pre;overflow-x:auto;line-height:normal;font-family:Menlo,'DejaVu Sans Mono',consolas,'Courier New',monospace\"><span style=\"font-weight: bold\"> Non-trainable params: </span><span style=\"color: #00af00; text-decoration-color: #00af00\">0</span> (0.00 B)\n",
       "</pre>\n"
      ],
      "text/plain": [
       "\u001b[1m Non-trainable params: \u001b[0m\u001b[38;5;34m0\u001b[0m (0.00 B)\n"
      ]
     },
     "metadata": {},
     "output_type": "display_data"
    }
   ],
   "source": [
    "network.summary()"
   ]
  },
  {
   "cell_type": "code",
   "execution_count": 32,
   "metadata": {},
   "outputs": [
    {
     "data": {
      "text/plain": [
       "[<Dense name=dense, built=True>,\n",
       " <Dense name=dense_1, built=True>,\n",
       " <Dense name=dense_2, built=True>]"
      ]
     },
     "execution_count": 32,
     "metadata": {},
     "output_type": "execute_result"
    }
   ],
   "source": [
    "network.layers"
   ]
  },
  {
   "cell_type": "code",
   "execution_count": 35,
   "metadata": {},
   "outputs": [
    {
     "data": {
      "text/plain": [
       "<Dense name=dense, built=True>"
      ]
     },
     "execution_count": 35,
     "metadata": {},
     "output_type": "execute_result"
    }
   ],
   "source": [
    "hidden1 = network._layers[1]\n",
    "hidden1"
   ]
  },
  {
   "cell_type": "code",
   "execution_count": 39,
   "metadata": {},
   "outputs": [],
   "source": [
    "weights, biases = hidden1.get_weights()"
   ]
  },
  {
   "cell_type": "code",
   "execution_count": 41,
   "metadata": {},
   "outputs": [
    {
     "data": {
      "text/plain": [
       "array([[-0.01093087, -0.01186579,  0.00930574, ...,  0.00109436,\n",
       "        -0.06180801, -0.04028428],\n",
       "       [-0.00136846,  0.01341913,  0.0174966 , ...,  0.02864897,\n",
       "        -0.00604588,  0.03334811],\n",
       "       [ 0.06363463, -0.04913066, -0.06922967, ...,  0.04784621,\n",
       "         0.00261254, -0.04294895],\n",
       "       ...,\n",
       "       [-0.03470355, -0.0120541 , -0.0381744 , ..., -0.04589867,\n",
       "        -0.01126597,  0.02192517],\n",
       "       [-0.03675778,  0.02806459, -0.0587258 , ..., -0.00644737,\n",
       "        -0.0410609 , -0.04930641],\n",
       "       [ 0.0007176 , -0.03151052, -0.05438685, ...,  0.06215283,\n",
       "        -0.01078864, -0.0679854 ]], dtype=float32)"
      ]
     },
     "execution_count": 41,
     "metadata": {},
     "output_type": "execute_result"
    }
   ],
   "source": [
    "weights"
   ]
  },
  {
   "cell_type": "code",
   "execution_count": 42,
   "metadata": {},
   "outputs": [
    {
     "data": {
      "text/plain": [
       "array([0., 0., 0., 0., 0., 0., 0., 0., 0., 0., 0., 0., 0., 0., 0., 0., 0.,\n",
       "       0., 0., 0., 0., 0., 0., 0., 0., 0., 0., 0., 0., 0., 0., 0., 0., 0.,\n",
       "       0., 0., 0., 0., 0., 0., 0., 0., 0., 0., 0., 0., 0., 0., 0., 0., 0.,\n",
       "       0., 0., 0., 0., 0., 0., 0., 0., 0., 0., 0., 0., 0., 0., 0., 0., 0.,\n",
       "       0., 0., 0., 0., 0., 0., 0., 0., 0., 0., 0., 0., 0., 0., 0., 0., 0.,\n",
       "       0., 0., 0., 0., 0., 0., 0., 0., 0., 0., 0., 0., 0., 0., 0., 0., 0.,\n",
       "       0., 0., 0., 0., 0., 0., 0., 0., 0., 0., 0., 0., 0., 0., 0., 0., 0.,\n",
       "       0., 0., 0., 0., 0., 0., 0., 0., 0., 0., 0., 0., 0., 0., 0., 0., 0.,\n",
       "       0., 0., 0., 0., 0., 0., 0., 0., 0., 0., 0., 0., 0., 0., 0., 0., 0.,\n",
       "       0., 0., 0., 0., 0., 0., 0., 0., 0., 0., 0., 0., 0., 0., 0., 0., 0.,\n",
       "       0., 0., 0., 0., 0., 0., 0., 0., 0., 0., 0., 0., 0., 0., 0., 0., 0.,\n",
       "       0., 0., 0., 0., 0., 0., 0., 0., 0., 0., 0., 0., 0., 0., 0., 0., 0.,\n",
       "       0., 0., 0., 0., 0., 0., 0., 0., 0., 0., 0., 0., 0., 0., 0., 0., 0.,\n",
       "       0., 0., 0., 0., 0., 0., 0., 0., 0., 0., 0., 0., 0., 0., 0., 0., 0.,\n",
       "       0., 0., 0., 0., 0., 0., 0., 0., 0., 0., 0., 0., 0., 0., 0., 0., 0.,\n",
       "       0., 0., 0., 0., 0., 0., 0., 0., 0., 0., 0., 0., 0., 0., 0., 0., 0.,\n",
       "       0., 0., 0., 0., 0., 0., 0., 0., 0., 0., 0., 0., 0., 0., 0., 0., 0.,\n",
       "       0., 0., 0., 0., 0., 0., 0., 0., 0., 0., 0.], dtype=float32)"
      ]
     },
     "execution_count": 42,
     "metadata": {},
     "output_type": "execute_result"
    }
   ],
   "source": [
    "biases"
   ]
  },
  {
   "cell_type": "code",
   "execution_count": 43,
   "metadata": {},
   "outputs": [],
   "source": [
    "network.compile(optimizer='sgd',\n",
    "        loss=\"categorical_crossentropy\",\n",
    "        metrics=['accuracy', 'precision'])"
   ]
  },
  {
   "cell_type": "code",
   "execution_count": 44,
   "metadata": {},
   "outputs": [],
   "source": [
    "X_train_prep = X_train.reshape((60000, 28*28))\n",
    "X_train_prep = X_train_prep.astype('float32')/255\n",
    "\n",
    "X_test_prep = X_test.reshape((5000, 28*28))\n",
    "X_test_prep = X_test_prep.astype('float32')/255\n",
    "\n",
    "X_val_prep = X_val.reshape((5000, 28*28))\n",
    "X_val_prep = X_val_prep.astype('float32')/255\n"
   ]
  },
  {
   "cell_type": "code",
   "execution_count": 45,
   "metadata": {},
   "outputs": [
    {
     "data": {
      "text/plain": [
       "((60000, 28, 28), (60000, 784))"
      ]
     },
     "execution_count": 45,
     "metadata": {},
     "output_type": "execute_result"
    }
   ],
   "source": [
    "X_train.shape, X_train_prep.shape"
   ]
  },
  {
   "cell_type": "code",
   "execution_count": 46,
   "metadata": {},
   "outputs": [],
   "source": [
    "from keras.utils import to_categorical\n",
    "\n",
    "y_train_prep = to_categorical(y_train)\n",
    "y_test_prep = to_categorical(y_test)\n",
    "y_val_prep = to_categorical(y_val)"
   ]
  },
  {
   "cell_type": "code",
   "execution_count": 47,
   "metadata": {},
   "outputs": [
    {
     "name": "stdout",
     "output_type": "stream",
     "text": [
      "Epoch 1/30\n",
      "\u001b[1m1875/1875\u001b[0m \u001b[32m━━━━━━━━━━━━━━━━━━━━\u001b[0m\u001b[37m\u001b[0m \u001b[1m6s\u001b[0m 2ms/step - accuracy: 0.7546 - loss: 0.9805 - precision: 0.9121 - val_accuracy: 0.9178 - val_loss: 0.2886 - val_precision: 0.9454\n",
      "Epoch 2/30\n",
      "\u001b[1m1875/1875\u001b[0m \u001b[32m━━━━━━━━━━━━━━━━━━━━\u001b[0m\u001b[37m\u001b[0m \u001b[1m4s\u001b[0m 2ms/step - accuracy: 0.9171 - loss: 0.2921 - precision: 0.9426 - val_accuracy: 0.9346 - val_loss: 0.2274 - val_precision: 0.9516\n",
      "Epoch 3/30\n",
      "\u001b[1m1875/1875\u001b[0m \u001b[32m━━━━━━━━━━━━━━━━━━━━\u001b[0m\u001b[37m\u001b[0m \u001b[1m4s\u001b[0m 2ms/step - accuracy: 0.9348 - loss: 0.2300 - precision: 0.9529 - val_accuracy: 0.9442 - val_loss: 0.1941 - val_precision: 0.9563\n",
      "Epoch 4/30\n",
      "\u001b[1m1875/1875\u001b[0m \u001b[32m━━━━━━━━━━━━━━━━━━━━\u001b[0m\u001b[37m\u001b[0m \u001b[1m5s\u001b[0m 2ms/step - accuracy: 0.9462 - loss: 0.1963 - precision: 0.9598 - val_accuracy: 0.9506 - val_loss: 0.1686 - val_precision: 0.9630\n",
      "Epoch 5/30\n",
      "\u001b[1m1875/1875\u001b[0m \u001b[32m━━━━━━━━━━━━━━━━━━━━\u001b[0m\u001b[37m\u001b[0m \u001b[1m5s\u001b[0m 2ms/step - accuracy: 0.9542 - loss: 0.1632 - precision: 0.9655 - val_accuracy: 0.9562 - val_loss: 0.1508 - val_precision: 0.9651\n",
      "Epoch 6/30\n",
      "\u001b[1m1875/1875\u001b[0m \u001b[32m━━━━━━━━━━━━━━━━━━━━\u001b[0m\u001b[37m\u001b[0m \u001b[1m5s\u001b[0m 3ms/step - accuracy: 0.9596 - loss: 0.1431 - precision: 0.9697 - val_accuracy: 0.9608 - val_loss: 0.1342 - val_precision: 0.9694\n",
      "Epoch 7/30\n",
      "\u001b[1m1875/1875\u001b[0m \u001b[32m━━━━━━━━━━━━━━━━━━━━\u001b[0m\u001b[37m\u001b[0m \u001b[1m4s\u001b[0m 2ms/step - accuracy: 0.9637 - loss: 0.1272 - precision: 0.9724 - val_accuracy: 0.9664 - val_loss: 0.1237 - val_precision: 0.9740\n",
      "Epoch 8/30\n",
      "\u001b[1m1875/1875\u001b[0m \u001b[32m━━━━━━━━━━━━━━━━━━━━\u001b[0m\u001b[37m\u001b[0m \u001b[1m5s\u001b[0m 3ms/step - accuracy: 0.9681 - loss: 0.1138 - precision: 0.9749 - val_accuracy: 0.9668 - val_loss: 0.1163 - val_precision: 0.9742\n",
      "Epoch 9/30\n",
      "\u001b[1m1875/1875\u001b[0m \u001b[32m━━━━━━━━━━━━━━━━━━━━\u001b[0m\u001b[37m\u001b[0m \u001b[1m4s\u001b[0m 2ms/step - accuracy: 0.9717 - loss: 0.1035 - precision: 0.9783 - val_accuracy: 0.9668 - val_loss: 0.1101 - val_precision: 0.9733\n",
      "Epoch 10/30\n",
      "\u001b[1m1875/1875\u001b[0m \u001b[32m━━━━━━━━━━━━━━━━━━━━\u001b[0m\u001b[37m\u001b[0m \u001b[1m4s\u001b[0m 2ms/step - accuracy: 0.9742 - loss: 0.0925 - precision: 0.9802 - val_accuracy: 0.9696 - val_loss: 0.1045 - val_precision: 0.9751\n",
      "Epoch 11/30\n",
      "\u001b[1m1875/1875\u001b[0m \u001b[32m━━━━━━━━━━━━━━━━━━━━\u001b[0m\u001b[37m\u001b[0m \u001b[1m17s\u001b[0m 9ms/step - accuracy: 0.9747 - loss: 0.0872 - precision: 0.9806 - val_accuracy: 0.9720 - val_loss: 0.0977 - val_precision: 0.9762\n",
      "Epoch 12/30\n",
      "\u001b[1m1875/1875\u001b[0m \u001b[32m━━━━━━━━━━━━━━━━━━━━\u001b[0m\u001b[37m\u001b[0m \u001b[1m14s\u001b[0m 6ms/step - accuracy: 0.9769 - loss: 0.0798 - precision: 0.9822 - val_accuracy: 0.9708 - val_loss: 0.0950 - val_precision: 0.9766\n",
      "Epoch 13/30\n",
      "\u001b[1m1875/1875\u001b[0m \u001b[32m━━━━━━━━━━━━━━━━━━━━\u001b[0m\u001b[37m\u001b[0m \u001b[1m5s\u001b[0m 2ms/step - accuracy: 0.9798 - loss: 0.0733 - precision: 0.9846 - val_accuracy: 0.9746 - val_loss: 0.0945 - val_precision: 0.9790\n",
      "Epoch 14/30\n",
      "\u001b[1m1875/1875\u001b[0m \u001b[32m━━━━━━━━━━━━━━━━━━━━\u001b[0m\u001b[37m\u001b[0m \u001b[1m4s\u001b[0m 2ms/step - accuracy: 0.9808 - loss: 0.0681 - precision: 0.9858 - val_accuracy: 0.9744 - val_loss: 0.0888 - val_precision: 0.9776\n",
      "Epoch 15/30\n",
      "\u001b[1m1875/1875\u001b[0m \u001b[32m━━━━━━━━━━━━━━━━━━━━\u001b[0m\u001b[37m\u001b[0m \u001b[1m5s\u001b[0m 2ms/step - accuracy: 0.9825 - loss: 0.0629 - precision: 0.9863 - val_accuracy: 0.9734 - val_loss: 0.0836 - val_precision: 0.9772\n",
      "Epoch 16/30\n",
      "\u001b[1m1875/1875\u001b[0m \u001b[32m━━━━━━━━━━━━━━━━━━━━\u001b[0m\u001b[37m\u001b[0m \u001b[1m5s\u001b[0m 3ms/step - accuracy: 0.9840 - loss: 0.0587 - precision: 0.9873 - val_accuracy: 0.9752 - val_loss: 0.0827 - val_precision: 0.9792\n",
      "Epoch 17/30\n",
      "\u001b[1m1875/1875\u001b[0m \u001b[32m━━━━━━━━━━━━━━━━━━━━\u001b[0m\u001b[37m\u001b[0m \u001b[1m4s\u001b[0m 2ms/step - accuracy: 0.9854 - loss: 0.0545 - precision: 0.9882 - val_accuracy: 0.9750 - val_loss: 0.0817 - val_precision: 0.9794\n",
      "Epoch 18/30\n",
      "\u001b[1m1875/1875\u001b[0m \u001b[32m━━━━━━━━━━━━━━━━━━━━\u001b[0m\u001b[37m\u001b[0m \u001b[1m4s\u001b[0m 2ms/step - accuracy: 0.9863 - loss: 0.0524 - precision: 0.9891 - val_accuracy: 0.9760 - val_loss: 0.0796 - val_precision: 0.9795\n",
      "Epoch 19/30\n",
      "\u001b[1m1875/1875\u001b[0m \u001b[32m━━━━━━━━━━━━━━━━━━━━\u001b[0m\u001b[37m\u001b[0m \u001b[1m4s\u001b[0m 2ms/step - accuracy: 0.9871 - loss: 0.0496 - precision: 0.9899 - val_accuracy: 0.9748 - val_loss: 0.0800 - val_precision: 0.9783\n",
      "Epoch 20/30\n",
      "\u001b[1m1875/1875\u001b[0m \u001b[32m━━━━━━━━━━━━━━━━━━━━\u001b[0m\u001b[37m\u001b[0m \u001b[1m4s\u001b[0m 2ms/step - accuracy: 0.9872 - loss: 0.0470 - precision: 0.9903 - val_accuracy: 0.9786 - val_loss: 0.0753 - val_precision: 0.9813\n",
      "Epoch 21/30\n",
      "\u001b[1m1875/1875\u001b[0m \u001b[32m━━━━━━━━━━━━━━━━━━━━\u001b[0m\u001b[37m\u001b[0m \u001b[1m4s\u001b[0m 2ms/step - accuracy: 0.9892 - loss: 0.0417 - precision: 0.9917 - val_accuracy: 0.9776 - val_loss: 0.0768 - val_precision: 0.9809\n",
      "Epoch 22/30\n",
      "\u001b[1m1875/1875\u001b[0m \u001b[32m━━━━━━━━━━━━━━━━━━━━\u001b[0m\u001b[37m\u001b[0m \u001b[1m4s\u001b[0m 2ms/step - accuracy: 0.9899 - loss: 0.0396 - precision: 0.9921 - val_accuracy: 0.9788 - val_loss: 0.0746 - val_precision: 0.9807\n",
      "Epoch 23/30\n",
      "\u001b[1m1875/1875\u001b[0m \u001b[32m━━━━━━━━━━━━━━━━━━━━\u001b[0m\u001b[37m\u001b[0m \u001b[1m4s\u001b[0m 2ms/step - accuracy: 0.9905 - loss: 0.0373 - precision: 0.9927 - val_accuracy: 0.9772 - val_loss: 0.0731 - val_precision: 0.9815\n",
      "Epoch 24/30\n",
      "\u001b[1m1875/1875\u001b[0m \u001b[32m━━━━━━━━━━━━━━━━━━━━\u001b[0m\u001b[37m\u001b[0m \u001b[1m4s\u001b[0m 2ms/step - accuracy: 0.9916 - loss: 0.0334 - precision: 0.9935 - val_accuracy: 0.9762 - val_loss: 0.0734 - val_precision: 0.9803\n",
      "Epoch 25/30\n",
      "\u001b[1m1875/1875\u001b[0m \u001b[32m━━━━━━━━━━━━━━━━━━━━\u001b[0m\u001b[37m\u001b[0m \u001b[1m4s\u001b[0m 2ms/step - accuracy: 0.9924 - loss: 0.0326 - precision: 0.9944 - val_accuracy: 0.9774 - val_loss: 0.0733 - val_precision: 0.9807\n",
      "Epoch 26/30\n",
      "\u001b[1m1875/1875\u001b[0m \u001b[32m━━━━━━━━━━━━━━━━━━━━\u001b[0m\u001b[37m\u001b[0m \u001b[1m4s\u001b[0m 2ms/step - accuracy: 0.9920 - loss: 0.0312 - precision: 0.9937 - val_accuracy: 0.9784 - val_loss: 0.0710 - val_precision: 0.9809\n",
      "Epoch 27/30\n",
      "\u001b[1m1875/1875\u001b[0m \u001b[32m━━━━━━━━━━━━━━━━━━━━\u001b[0m\u001b[37m\u001b[0m \u001b[1m5s\u001b[0m 3ms/step - accuracy: 0.9935 - loss: 0.0292 - precision: 0.9953 - val_accuracy: 0.9794 - val_loss: 0.0708 - val_precision: 0.9815\n",
      "Epoch 28/30\n",
      "\u001b[1m1875/1875\u001b[0m \u001b[32m━━━━━━━━━━━━━━━━━━━━\u001b[0m\u001b[37m\u001b[0m \u001b[1m4s\u001b[0m 2ms/step - accuracy: 0.9936 - loss: 0.0281 - precision: 0.9947 - val_accuracy: 0.9790 - val_loss: 0.0710 - val_precision: 0.9821\n",
      "Epoch 29/30\n",
      "\u001b[1m1875/1875\u001b[0m \u001b[32m━━━━━━━━━━━━━━━━━━━━\u001b[0m\u001b[37m\u001b[0m \u001b[1m4s\u001b[0m 2ms/step - accuracy: 0.9945 - loss: 0.0253 - precision: 0.9961 - val_accuracy: 0.9790 - val_loss: 0.0696 - val_precision: 0.9813\n",
      "Epoch 30/30\n",
      "\u001b[1m1875/1875\u001b[0m \u001b[32m━━━━━━━━━━━━━━━━━━━━\u001b[0m\u001b[37m\u001b[0m \u001b[1m4s\u001b[0m 2ms/step - accuracy: 0.9949 - loss: 0.0236 - precision: 0.9961 - val_accuracy: 0.9800 - val_loss: 0.0702 - val_precision: 0.9833\n"
     ]
    }
   ],
   "source": [
    "history = network.fit(X_train_prep,\n",
    "                      y_train_prep,\n",
    "                      epochs=30,\n",
    "                      validation_data=(X_val_prep, y_val_prep))"
   ]
  },
  {
   "cell_type": "code",
   "execution_count": 49,
   "metadata": {},
   "outputs": [
    {
     "data": {
      "image/png": "[encoded data removed]",
      "text/plain": [
       "<Figure size 1000x700 with 1 Axes>"
      ]
     },
     "metadata": {},
     "output_type": "display_data"
    }
   ],
   "source": [
    "import pandas as pd\n",
    "\n",
    "pd.DataFrame(history.history).plot(figsize=(10,7))\n",
    "plt.grid(True)\n",
    "plt.gca().set_ylim(0,1.2)\n",
    "plt.xlabel(\"epochs\")\n",
    "plt.show()"
   ]
  },
  {
   "cell_type": "code",
   "execution_count": null,
   "metadata": {},
   "outputs": [
    {
     "data": {
      "text/plain": [
       "{'accuracy': [0.8530666828155518,\n",
       "  0.9227166771888733,\n",
       "  0.9375166893005371,\n",
       "  0.9478833079338074,\n",
       "  0.9543833136558533,\n",
       "  0.9604499936103821,\n",
       "  0.9646666646003723,\n",
       "  0.968583345413208,\n",
       "  0.9712499976158142,\n",
       "  0.9733166694641113,\n",
       "  0.9757833480834961,\n",
       "  0.9776999950408936,\n",
       "  0.9794833064079285,\n",
       "  0.9812833070755005,\n",
       "  0.982283353805542,\n",
       "  0.9838500022888184,\n",
       "  0.9854666590690613,\n",
       "  0.985966682434082,\n",
       "  0.9872000217437744,\n",
       "  0.9875500202178955,\n",
       "  0.9886500239372253,\n",
       "  0.9896000027656555,\n",
       "  0.9904833436012268,\n",
       "  0.991100013256073,\n",
       "  0.9918000102043152,\n",
       "  0.9923833608627319,\n",
       "  0.9931666851043701,\n",
       "  0.9934666752815247,\n",
       "  0.9943000078201294,\n",
       "  0.9944666624069214],\n",
       " 'loss': [0.5789905190467834,\n",
       "  0.2746897339820862,\n",
       "  0.2209840714931488,\n",
       "  0.18616914749145508,\n",
       "  0.16028955578804016,\n",
       "  0.14106698334217072,\n",
       "  0.125269815325737,\n",
       "  0.11279560625553131,\n",
       "  0.10227601230144501,\n",
       "  0.09303991496562958,\n",
       "  0.08545161783695221,\n",
       "  0.07892307639122009,\n",
       "  0.07280359417200089,\n",
       "  0.0673660933971405,\n",
       "  0.06298433989286423,\n",
       "  0.058558542281389236,\n",
       "  0.054585911333560944,\n",
       "  0.051219336688518524,\n",
       "  0.048025816679000854,\n",
       "  0.045031607151031494,\n",
       "  0.04231266677379608,\n",
       "  0.03977388143539429,\n",
       "  0.037385355681180954,\n",
       "  0.03507823124527931,\n",
       "  0.03299042582511902,\n",
       "  0.031171904876828194,\n",
       "  0.029171308502554893,\n",
       "  0.027665842324495316,\n",
       "  0.0261988528072834,\n",
       "  0.024745190516114235],\n",
       " 'precision': [0.9416733384132385,\n",
       "  0.9460594654083252,\n",
       "  0.9549822211265564,\n",
       "  0.9613059163093567,\n",
       "  0.9653774499893188,\n",
       "  0.9699001908302307,\n",
       "  0.9728155136108398,\n",
       "  0.9754741191864014,\n",
       "  0.9776960611343384,\n",
       "  0.9792692065238953,\n",
       "  0.9813948273658752,\n",
       "  0.9827330708503723,\n",
       "  0.9839485287666321,\n",
       "  0.9853341579437256,\n",
       "  0.9859663248062134,\n",
       "  0.987268328666687,\n",
       "  0.9884147644042969,\n",
       "  0.9890878200531006,\n",
       "  0.9898812174797058,\n",
       "  0.9903331995010376,\n",
       "  0.9910922050476074,\n",
       "  0.9917807579040527,\n",
       "  0.9926188588142395,\n",
       "  0.992975652217865,\n",
       "  0.9936766028404236,\n",
       "  0.9939318895339966,\n",
       "  0.9948672652244568,\n",
       "  0.9948024749755859,\n",
       "  0.9956715106964111,\n",
       "  0.9957221150398254],\n",
       " 'val_accuracy': [0.9178000092506409,\n",
       "  0.9345999956130981,\n",
       "  0.9441999793052673,\n",
       "  0.9506000280380249,\n",
       "  0.9562000036239624,\n",
       "  0.9607999920845032,\n",
       "  0.9664000272750854,\n",
       "  0.9667999744415283,\n",
       "  0.9667999744415283,\n",
       "  0.9696000218391418,\n",
       "  0.972000002861023,\n",
       "  0.97079998254776,\n",
       "  0.9746000170707703,\n",
       "  0.974399983882904,\n",
       "  0.9733999967575073,\n",
       "  0.9751999974250793,\n",
       "  0.9750000238418579,\n",
       "  0.9760000109672546,\n",
       "  0.9747999906539917,\n",
       "  0.978600025177002,\n",
       "  0.9775999784469604,\n",
       "  0.9787999987602234,\n",
       "  0.9771999716758728,\n",
       "  0.9761999845504761,\n",
       "  0.977400004863739,\n",
       "  0.9783999919891357,\n",
       "  0.9793999791145325,\n",
       "  0.9789999723434448,\n",
       "  0.9789999723434448,\n",
       "  0.9800000190734863],\n",
       " 'val_loss': [0.28863731026649475,\n",
       "  0.22737732529640198,\n",
       "  0.19412530958652496,\n",
       "  0.16863098740577698,\n",
       "  0.15076474845409393,\n",
       "  0.13417598605155945,\n",
       "  0.12365420162677765,\n",
       "  0.11629539728164673,\n",
       "  0.11014113575220108,\n",
       "  0.10450141876935959,\n",
       "  0.0977107584476471,\n",
       "  0.09503273665904999,\n",
       "  0.09451445192098618,\n",
       "  0.08882664144039154,\n",
       "  0.08359131217002869,\n",
       "  0.08272184431552887,\n",
       "  0.08172398805618286,\n",
       "  0.07959376275539398,\n",
       "  0.08000967651605606,\n",
       "  0.07530799508094788,\n",
       "  0.07679331302642822,\n",
       "  0.07460664957761765,\n",
       "  0.0730862021446228,\n",
       "  0.07341154664754868,\n",
       "  0.07328590750694275,\n",
       "  0.07104548811912537,\n",
       "  0.07077217102050781,\n",
       "  0.07099644094705582,\n",
       "  0.06959477066993713,\n",
       "  0.07015328109264374],\n",
       " 'val_precision': [0.9453737139701843,\n",
       "  0.9516497254371643,\n",
       "  0.9563255906105042,\n",
       "  0.9629629850387573,\n",
       "  0.9651162624359131,\n",
       "  0.9694376587867737,\n",
       "  0.9739890098571777,\n",
       "  0.974213182926178,\n",
       "  0.973263144493103,\n",
       "  0.9751263856887817,\n",
       "  0.9762001037597656,\n",
       "  0.9765703678131104,\n",
       "  0.9790153503417969,\n",
       "  0.9776434898376465,\n",
       "  0.9772498607635498,\n",
       "  0.9792464375495911,\n",
       "  0.9794355034828186,\n",
       "  0.9794520735740662,\n",
       "  0.978252112865448,\n",
       "  0.981283962726593,\n",
       "  0.9808660745620728,\n",
       "  0.9807074069976807,\n",
       "  0.9814889430999756,\n",
       "  0.9802657961845398,\n",
       "  0.9806918501853943,\n",
       "  0.9809045195579529,\n",
       "  0.9815260767936707,\n",
       "  0.9820997714996338,\n",
       "  0.9813290238380432,\n",
       "  0.9833098649978638]}"
      ]
     },
     "execution_count": 48,
     "metadata": {},
     "output_type": "execute_result"
    }
   ],
   "source": []
  },
  {
   "cell_type": "code",
   "execution_count": null,
   "metadata": {},
   "outputs": [],
   "source": []
  }
 ],
 "metadata": {
  "kernelspec": {
   "display_name": "base",
   "language": "python",
   "name": "python3"
  },
  "language_info": {
   "codemirror_mode": {
    "name": "ipython",
    "version": 3
   },
   "file_extension": ".py",
   "mimetype": "text/x-python",
   "name": "python",
   "nbconvert_exporter": "python",
   "pygments_lexer": "ipython3",
   "version": "3.11.7"
  }
 },
 "nbformat": 4,
 "nbformat_minor": 2
}
